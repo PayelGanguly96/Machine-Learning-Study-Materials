{
 "cells": [
  {
   "cell_type": "code",
   "execution_count": 2,
   "metadata": {},
   "outputs": [
    {
     "name": "stderr",
     "output_type": "stream",
     "text": [
      "Using TensorFlow backend.\n"
     ]
    }
   ],
   "source": [
    "import keras\n"
   ]
  },
  {
   "cell_type": "code",
   "execution_count": 4,
   "metadata": {},
   "outputs": [
    {
     "data": {
      "image/png": "[encoded data removed]",
      "text/plain": [
       "<Figure size 432x288 with 4 Axes>"
      ]
     },
     "metadata": {
      "needs_background": "light"
     },
     "output_type": "display_data"
    }
   ],
   "source": [
    "from keras.datasets import mnist #mnist is a standard database having numbers handwritten differently \n",
    "import matplotlib.pyplot as plt\n",
    "\n",
    "(X_train ,y_train), (X_test, y_test) = mnist.load_data()\n",
    "\n",
    "plt.subplot(221)\n",
    "plt.imshow(X_train[0], cmap=plt.get_cmap('gray'))\n",
    "plt.subplot(222)\n",
    "plt.imshow(X_train[1], cmap=plt.get_cmap('gray'))\n",
    "plt.subplot(223)\n",
    "plt.imshow(X_train[2], cmap=plt.get_cmap('gray'))\n",
    "plt.subplot(224)\n",
    "plt.imshow(X_train[3], cmap=plt.get_cmap('gray'))\n",
    "\n",
    "\n",
    "plt.show()"
   ]
  },
  {
   "cell_type": "code",
   "execution_count": 5,
   "metadata": {},
   "outputs": [
    {
     "name": "stdout",
     "output_type": "stream",
     "text": [
      "[[3 4]\n",
      " [6 8]]\n"
     ]
    }
   ],
   "source": [
    "#tensorproduct : dot product of tensors ( arrays havong 1 or more than 1 axes)\n",
    "\n",
    "from numpy import array\n",
    "from numpy import tensordot\n",
    "A = array([1,2])\n",
    "B = array([3,4])\n",
    "C = tensordot(A, B, axes=0)\n",
    "print(C)"
   ]
  },
  {
   "cell_type": "code",
   "execution_count": 13,
   "metadata": {},
   "outputs": [
    {
     "name": "stdout",
     "output_type": "stream",
     "text": [
      "The root is:  1.3076923076923077\n"
     ]
    }
   ],
   "source": [
    "#using newton-rhapson method \n",
    "\n",
    "import sys\n",
    "\n",
    "def f(x):\n",
    "        return x**3 + x - 1\n",
    "\n",
    "def f_prime(x):\n",
    "        return 3*x**2 + 1  #differentiation of the above equation\n",
    "\n",
    "def newt(x,n):             #how this newt function is working ????\n",
    "        for i in range(n):\n",
    "                if f_prime(x) == 0:\n",
    "                        return x\n",
    "                x = x - f(x)/f_prime(x)\n",
    "        return x\n",
    "\n",
    "def main(argv):\n",
    "        if (len(sys.argv) != 3):\n",
    "                sys.exit('Usage: newtons_method.py <x> <n>')\n",
    "        print('The root is: ', newt(2,1))\n",
    "        #print (newt(float(sys.argv[1]),int(sys.argv[2])))\n",
    "if __name__ == \"__main__\":\n",
    "        main(sys.argv[1:])\n"
   ]
  },
  {
   "cell_type": "code",
   "execution_count": null,
   "metadata": {},
   "outputs": [],
   "source": []
  }
 ],
 "metadata": {
  "kernelspec": {
   "display_name": "Python 3",
   "language": "python",
   "name": "python3"
  },
  "language_info": {
   "codemirror_mode": {
    "name": "ipython",
    "version": 3
   },
   "file_extension": ".py",
   "mimetype": "text/x-python",
   "name": "python",
   "nbconvert_exporter": "python",
   "pygments_lexer": "ipython3",
   "version": "3.5.2"
  }
 },
 "nbformat": 4,
 "nbformat_minor": 2
}
